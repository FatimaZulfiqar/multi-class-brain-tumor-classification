{
  "cells": [
    {
      "cell_type": "code",
      "execution_count": null,
      "id": "b75668d3",
      "metadata": {
        "id": "b75668d3",
        "outputId": "6bf5371f-4963-4b5f-f6c7-1606ba21baa0"
      },
      "outputs": [
        {
          "name": "stdout",
          "output_type": "stream",
          "text": [
            "Collecting imutils\n",
            "  Downloading imutils-0.5.4.tar.gz (17 kB)\n",
            "Building wheels for collected packages: imutils\n",
            "  Building wheel for imutils (setup.py): started\n",
            "  Building wheel for imutils (setup.py): finished with status 'done'\n",
            "  Created wheel for imutils: filename=imutils-0.5.4-py3-none-any.whl size=25858 sha256=afe41af82c12330183dc850fa0132764a04be88f351e772e189117fd64a5c2cc\n",
            "  Stored in directory: c:\\users\\dr zulfiqar\\appdata\\local\\pip\\cache\\wheels\\f5\\0c\\3a\\61b992f7aa85de40f339e6d4970d91dddb103dd0ad6c5d58f2\n",
            "Successfully built imutils\n",
            "Installing collected packages: imutils\n",
            "Successfully installed imutils-0.5.4\n"
          ]
        }
      ],
      "source": [
        "!pip install imutils"
      ]
    },
    {
      "cell_type": "code",
      "execution_count": null,
      "id": "9fccafdb",
      "metadata": {
        "id": "9fccafdb"
      },
      "outputs": [],
      "source": [
        "import numpy as np \n",
        "import cv2\n",
        "import os\n",
        "from os import listdir\n",
        "import shutil\n",
        "import itertools\n",
        "import imutils\n",
        "from tqdm import tqdm\n",
        "from PIL import Image\n"
      ]
    },
    {
      "cell_type": "code",
      "execution_count": null,
      "id": "1c306b62",
      "metadata": {
        "id": "1c306b62"
      },
      "outputs": [],
      "source": [
        "def crop_brain_contour(image, plot=False):\n",
        "    \n",
        "    # Convert the image to grayscale, and blur it slightly\n",
        "    gray = cv2.cvtColor(image, cv2.COLOR_BGR2GRAY)\n",
        "    gray = cv2.GaussianBlur(gray, (5, 5), 0)\n",
        "\n",
        "    # Threshold the image, then perform a series of erosions +\n",
        "    # dilations to remove any small regions of noise\n",
        "    thresh = cv2.threshold(gray, 45, 255, cv2.THRESH_BINARY)[1]\n",
        "    thresh = cv2.erode(thresh, None, iterations=2)\n",
        "    thresh = cv2.dilate(thresh, None, iterations=2)\n",
        "\n",
        "    # Find contours in thresholded image, then grab the largest one\n",
        "    cnts = cv2.findContours(thresh.copy(), cv2.RETR_EXTERNAL, cv2.CHAIN_APPROX_SIMPLE)\n",
        "    cnts = imutils.grab_contours(cnts)\n",
        "    c = max(cnts, key=cv2.contourArea)\n",
        "    \n",
        "\n",
        "    # Find the extreme points\n",
        "    extLeft = tuple(c[c[:, :, 0].argmin()][0])\n",
        "    extRight = tuple(c[c[:, :, 0].argmax()][0])\n",
        "    extTop = tuple(c[c[:, :, 1].argmin()][0])\n",
        "    extBot = tuple(c[c[:, :, 1].argmax()][0])\n",
        "    \n",
        "    # crop new image out of the original image using the four extreme points (left, right, top, bottom)\n",
        "    new_image = image[extTop[1]:extBot[1], extLeft[0]:extRight[0]]            \n",
        "\n",
        "    if plot:\n",
        "        plt.figure()\n",
        "\n",
        "        plt.subplot(1, 2, 1)\n",
        "        plt.imshow(image)\n",
        "        \n",
        "        plt.tick_params(axis='both', which='both', \n",
        "                        top=False, bottom=False, left=False, right=False,\n",
        "                        labelbottom=False, labeltop=False, labelleft=False, labelright=False)\n",
        "        \n",
        "        plt.title('Original Image')\n",
        "            \n",
        "        plt.subplot(1, 2, 2)\n",
        "        plt.imshow(new_image)\n",
        "\n",
        "        plt.tick_params(axis='both', which='both', \n",
        "                        top=False, bottom=False, left=False, right=False,\n",
        "                        labelbottom=False, labeltop=False, labelleft=False, labelright=False)\n",
        "\n",
        "        plt.title('Cropped Image')\n",
        "        \n",
        "        plt.show()\n",
        "    \n",
        "    return new_image\n"
      ]
    },
    {
      "cell_type": "code",
      "execution_count": null,
      "id": "ff0220e4",
      "metadata": {
        "id": "ff0220e4"
      },
      "outputs": [],
      "source": [
        "def save_new_images(x_set, y_set, folder_name):\n",
        "    i = 0\n",
        "    for (img, imclass) in zip(x_set, y_set):\n",
        "        if imclass == 'glioma':\n",
        "            cv2.imwrite(folder_name+'glioma/'+str(i)+'.png', img)\n",
        "        elif imclass == 'meningioma':\n",
        "            cv2.imwrite(folder_name+'meningioma/'+str(i)+'.png', img)\n",
        "            \n",
        "        else:\n",
        "            cv2.imwrite(folder_name+'pituitary tumor/'+str(i)+'.png', img)\n",
        "        i += 1"
      ]
    },
    {
      "cell_type": "code",
      "execution_count": null,
      "id": "6e7b7e09",
      "metadata": {
        "id": "6e7b7e09",
        "outputId": "06585e4e-428e-4b6c-fda5-a502d45a8d7e"
      },
      "outputs": [
        {
          "name": "stderr",
          "output_type": "stream",
          "text": [
            "  3%|▎         | 30/1140 [00:00<00:03, 292.06it/s]"
          ]
        },
        {
          "name": "stdout",
          "output_type": "stream",
          "text": [
            "Train Set\n",
            "===========\n"
          ]
        },
        {
          "name": "stderr",
          "output_type": "stream",
          "text": [
            "100%|██████████| 1140/1140 [00:03<00:00, 300.72it/s]\n",
            "100%|██████████| 566/566 [00:01<00:00, 300.75it/s]\n",
            "100%|██████████| 744/744 [00:02<00:00, 288.25it/s]\n",
            "C:\\Users\\DR ZULFIQAR\\.conda\\envs\\tf_env\\lib\\site-packages\\ipykernel_launcher.py:19: VisibleDeprecationWarning: Creating an ndarray from ragged nested sequences (which is a list-or-tuple of lists-or-tuples-or ndarrays with different lengths or shapes) is deprecated. If you meant to do this, you must specify 'dtype=object' when creating the ndarray\n",
            " 23%|██▎       | 65/286 [00:00<00:00, 312.50it/s]"
          ]
        },
        {
          "name": "stdout",
          "output_type": "stream",
          "text": [
            "Test Set\n",
            "=========\n"
          ]
        },
        {
          "name": "stderr",
          "output_type": "stream",
          "text": [
            "100%|██████████| 286/286 [00:00<00:00, 304.75it/s]\n",
            "100%|██████████| 142/142 [00:00<00:00, 298.49it/s]\n",
            "100%|██████████| 186/186 [00:00<00:00, 273.86it/s]\n",
            "C:\\Users\\DR ZULFIQAR\\.conda\\envs\\tf_env\\lib\\site-packages\\ipykernel_launcher.py:32: VisibleDeprecationWarning: Creating an ndarray from ragged nested sequences (which is a list-or-tuple of lists-or-tuples-or ndarrays with different lengths or shapes) is deprecated. If you meant to do this, you must specify 'dtype=object' when creating the ndarray\n"
          ]
        }
      ],
      "source": [
        "labels = ['glioma','meningioma','pituitary tumor']\n",
        "\n",
        "X_train = []\n",
        "y_train = []\n",
        "X_test = []\n",
        "y_test = []\n",
        "\n",
        "print(\"Train Set\")\n",
        "print(\"===========\")\n",
        "image_size = 240\n",
        "for i in labels:\n",
        "  # path to dataset\n",
        "    folderPath = os.path.join('E:/Personal Projects/Multiclass Brain Tumor Classification/Dataset/Split Data 80-20','train',i)\n",
        "    for j in tqdm(os.listdir(folderPath)):\n",
        "        img = cv2.imread(os.path.join(folderPath,j))\n",
        "        img = crop_brain_contour(img)\n",
        "        X_train.append(img)\n",
        "        y_train.append(i)\n",
        "                \n",
        "X_train = np.array(X_train)\n",
        "y_train = np.array(y_train)\n",
        "\n",
        "print(\"Test Set\")\n",
        "print(\"=========\")\n",
        "for i in labels:\n",
        "  # path to dataset\n",
        "    folderPath = os.path.join('E:/Personal Projects/Multiclass Brain Tumor Classification/Dataset/Split Data 80-20','test',i)\n",
        "    for j in tqdm(os.listdir(folderPath)):\n",
        "        img = cv2.imread(os.path.join(folderPath,j))\n",
        "        img = crop_brain_contour(img)\n",
        "        X_test.append(img)\n",
        "        y_test.append(i)\n",
        "                \n",
        "X_test = np.array(X_test)\n",
        "y_test = np.array(y_test)"
      ]
    },
    {
      "cell_type": "code",
      "execution_count": null,
      "id": "69b8b12a",
      "metadata": {
        "id": "69b8b12a"
      },
      "outputs": [],
      "source": [
        "# path to save cropped image\n",
        "save_new_images(X_train, y_train, folder_name='E:/Personal Projects/Multiclass Brain Tumor Classification/Dataset/Cropped 2/train/')\n",
        "save_new_images(X_test, y_test, folder_name='E:/Personal Projects/Multiclass Brain Tumor Classification/Dataset/Cropped 2/test/')"
      ]
    },
    {
      "cell_type": "code",
      "execution_count": null,
      "id": "bd91790a",
      "metadata": {
        "id": "bd91790a"
      },
      "outputs": [],
      "source": []
    }
  ],
  "metadata": {
    "kernelspec": {
      "display_name": "Python 3",
      "language": "python",
      "name": "python3"
    },
    "language_info": {
      "codemirror_mode": {
        "name": "ipython",
        "version": 3
      },
      "file_extension": ".py",
      "mimetype": "text/x-python",
      "name": "python",
      "nbconvert_exporter": "python",
      "pygments_lexer": "ipython3",
      "version": "3.6.13"
    },
    "colab": {
      "provenance": []
    }
  },
  "nbformat": 4,
  "nbformat_minor": 5
}