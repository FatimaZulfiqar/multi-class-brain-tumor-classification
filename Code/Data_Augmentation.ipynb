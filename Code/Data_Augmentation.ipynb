{
  "cells": [
    {
      "cell_type": "markdown",
      "metadata": {
        "id": "dqIOLGX6AUUS"
      },
      "source": [
        "# Data Augmentation"
      ]
    },
    {
      "cell_type": "markdown",
      "metadata": {
        "id": "Xkg02PKlAUUX"
      },
      "source": [
        "## Import Necessary Modules"
      ]
    },
    {
      "cell_type": "code",
      "execution_count": null,
      "metadata": {
        "id": "fVECv0lIAUUY"
      },
      "outputs": [],
      "source": [
        "import tensorflow as tf\n",
        "from tensorflow.keras.preprocessing.image import ImageDataGenerator\n",
        "import cv2\n",
        "import matplotlib.pyplot as plt\n",
        "from os import listdir\n",
        "import time    \n",
        "\n",
        "%matplotlib inline"
      ]
    },
    {
      "cell_type": "code",
      "execution_count": null,
      "metadata": {
        "id": "qrLTOoOgAUUa"
      },
      "outputs": [],
      "source": [
        "# Time string formatting\n",
        "def hms_string(sec_elapsed):\n",
        "    h = int(sec_elapsed / (60 * 60))\n",
        "    m = int((sec_elapsed % (60 * 60)) / 60)\n",
        "    s = sec_elapsed % 60\n",
        "    return f\"{h}:{m}:{round(s,1)}\""
      ]
    },
    {
      "cell_type": "code",
      "execution_count": null,
      "metadata": {
        "id": "-cqNpJYyAUUb"
      },
      "outputs": [],
      "source": [
        "def augment_data(file_dir, n_generated_samples, save_to_dir):\n",
        "    data_gen = ImageDataGenerator(rotation_range=10, \n",
        "                                  width_shift_range=0.1, \n",
        "                                  height_shift_range=0.1, \n",
        "                                  horizontal_flip=True, \n",
        "                                  vertical_flip=True, \n",
        "                                  fill_mode='nearest'\n",
        "                                 )\n",
        "\n",
        "    \n",
        "    for filename in listdir(file_dir):\n",
        "        # load the image\n",
        "        image = cv2.imread(file_dir + '\\\\' + filename)\n",
        "        # reshape the image\n",
        "        image = image.reshape((1,)+image.shape)\n",
        "        # prefix of the names for the generated sampels.\n",
        "        save_prefix = 'aug_' + filename[:-4]\n",
        "        # generate 'n_generated_samples' sample images\n",
        "        i=0\n",
        "        for batch in data_gen.flow(x=image, batch_size=1, save_to_dir=save_to_dir, \n",
        "                                           save_prefix=save_prefix, save_format='png'):\n",
        "            i += 1\n",
        "            if i > n_generated_samples:\n",
        "                break"
      ]
    },
    {
      "cell_type": "code",
      "execution_count": null,
      "metadata": {
        "id": "qCl6g4BdAUUd",
        "outputId": "3ac8e0d6-02d6-4968-e981-e660126fc9e5"
      },
      "outputs": [
        {
          "name": "stdout",
          "output_type": "stream",
          "text": [
            "Elapsed time: 0:14:59.2\n"
          ]
        }
      ],
      "source": [
        "start_time = time.time()\n",
        "\n",
        "# path to save augmented image\n",
        "augmented_data_path = 'E:/Personal Projects/Multiclass Brain Tumor Classification/Dataset/Augmented + Split/train/'\n",
        "\n",
        "# path of cropped images\n",
        "glioma_path = 'E:/Personal Projects/Multiclass Brain Tumor Classification/Dataset/Cropped 2/train/glioma'\n",
        "meningioma_path = 'E:/Personal Projects/Multiclass Brain Tumor Classification/Dataset/Cropped 2/train/meningioma'\n",
        "pituitary_path = 'E:/Personal Projects/Multiclass Brain Tumor Classification/Dataset/Cropped 2/train/pituitary tumor'\n",
        "\n",
        "# augment data for the examples with label equal to 'glioma' \n",
        "augment_data(file_dir=glioma_path, n_generated_samples=2, save_to_dir=augmented_data_path+'glioma')\n",
        "\n",
        "# augment data for the examples with label equal to 'meningioma' \n",
        "augment_data(file_dir=meningioma_path, n_generated_samples=5, save_to_dir=augmented_data_path+'meningioma')\n",
        "\n",
        "# augment data for the examples with label equal to 'pituitary tumor' \n",
        "augment_data(file_dir=pituitary_path, n_generated_samples=4, save_to_dir=augmented_data_path+'pituitary tumor')\n",
        "\n",
        "end_time = time.time()\n",
        "execution_time = (end_time - start_time)\n",
        "print(f\"Elapsed time: {hms_string(execution_time)}\")"
      ]
    },
    {
      "cell_type": "markdown",
      "metadata": {
        "id": "7XVDOYlsAUUg"
      },
      "source": [
        "Let's see how many glioma, meningioma and pituitary tumor examples are there after performing data augmentation:"
      ]
    },
    {
      "cell_type": "code",
      "execution_count": null,
      "metadata": {
        "id": "bHbmcI_jAUUg"
      },
      "outputs": [],
      "source": [
        "def data_summary(main_path):\n",
        "    \n",
        "    glioma_path = main_path+'glioma'\n",
        "    meningioma_path = main_path+'meningioma'\n",
        "    pituitary_path = main_path+'pituitary tumor'\n",
        "        \n",
        "    # number of files (images) that are in the the folder named 'glioma'\n",
        "    m_glioma = len(listdir(glioma_path))\n",
        "    # number of files (images) that are in the the folder named 'meningioma'\n",
        "    m_meningioma = len(listdir(meningioma_path))\n",
        "    # number of files (images) that are in the the folder named 'pituitary tumor'\n",
        "    m_pituitary = len(listdir(pituitary_path))\n",
        "    \n",
        "    # number of all examples\n",
        "    m = (m_glioma + m_meningioma + m_pituitary)\n",
        "    \n",
        "    glioma_prec = (m_glioma* 100.0)/ m\n",
        "    meningioma_prec = (m_meningioma* 100.0)/ m\n",
        "    pituitary_prec = (m_pituitary* 100.0)/ m\n",
        "    \n",
        "    print(f\"Number of examples: {m}\")\n",
        "    print(f\"Percentage of glioma examples: {glioma_prec}%, number of glioma examples: {m_glioma}\") \n",
        "    print(f\"Percentage of meningioma examples: {meningioma_prec}%, number of meningioma examples: {m_meningioma}\")\n",
        "    print(f\"Percentage of pituitary examples: {pituitary_prec}%, number of pituitary examples: {m_pituitary}\")"
      ]
    },
    {
      "cell_type": "code",
      "execution_count": null,
      "metadata": {
        "id": "eTLL3dIwAUUh",
        "outputId": "e4f10f3e-9947-47da-a629-9b5f34e46dc0"
      },
      "outputs": [
        {
          "name": "stdout",
          "output_type": "stream",
          "text": [
            "Number of examples: 10534\n",
            "Percentage of glioma examples: 32.466299601291055%, number of glioma examples: 3420\n",
            "Percentage of meningioma examples: 32.228972849819634%, number of meningioma examples: 3395\n",
            "Percentage of pituitary examples: 35.30472754888931%, number of pituitary examples: 3719\n"
          ]
        }
      ],
      "source": [
        "data_summary(augmented_data_path)"
      ]
    }
  ],
  "metadata": {
    "kernelspec": {
      "display_name": "Python 3",
      "language": "python",
      "name": "python3"
    },
    "language_info": {
      "codemirror_mode": {
        "name": "ipython",
        "version": 3
      },
      "file_extension": ".py",
      "mimetype": "text/x-python",
      "name": "python",
      "nbconvert_exporter": "python",
      "pygments_lexer": "ipython3",
      "version": "3.6.13"
    },
    "colab": {
      "provenance": []
    }
  },
  "nbformat": 4,
  "nbformat_minor": 0
}